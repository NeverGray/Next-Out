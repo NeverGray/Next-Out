{
 "cells": [
  {
   "cell_type": "code",
   "execution_count": 23,
   "metadata": {},
   "outputs": [
    {
     "name": "stdout",
     "output_type": "stream",
     "text": [
      "Tue Dec 13 10:40:43 2022    C:/Simulations/Next-Vis Timing/NV 1p15 parser.prof\n",
      "\n",
      "         1130020 function calls (1126385 primitive calls) in 3.253 seconds\n",
      "\n",
      "   Ordered by: cumulative time\n",
      "   List reduced from 1485 to 10 due to restriction <10>\n",
      "\n",
      "   ncalls  tottime  percall  cumtime  percall filename:lineno(function)\n",
      "        1    0.084    0.084    3.253    3.253 NV_parser.py:372(parse_file)\n",
      "   617971    2.662    0.000    2.662    0.000 {method 'search' of 're.Pattern' objects}\n",
      "        6    0.101    0.017    2.273    0.379 NV_parser.py:938(sum_parser)\n",
      "        8    0.004    0.001    0.210    0.026 NV_parser.py:901(to_dataframe2)\n",
      "        1    0.001    0.001    0.111    0.111 NV_parser.py:808(create_ss_dfs)\n",
      "       10    0.000    0.000    0.110    0.011 frame.py:7625(apply)\n",
      "       10    0.000    0.000    0.108    0.011 apply.py:141(get_result)\n",
      "       10    0.000    0.000    0.108    0.011 apply.py:275(apply_standard)\n",
      "       39    0.000    0.000    0.094    0.002 frame.py:502(__init__)\n",
      "       10    0.001    0.000    0.091    0.009 apply.py:281(apply_series_generator)\n",
      "\n",
      "\n"
     ]
    },
    {
     "data": {
      "text/plain": [
       "<pstats.Stats at 0x19565a083a0>"
      ]
     },
     "execution_count": 23,
     "metadata": {},
     "output_type": "execute_result"
    }
   ],
   "source": [
    "import pstats\n",
    "p = pstats.Stats(\"C:/Simulations/Next-Vis Timing/NV 1p15 parser.prof\")\n",
    "\n",
    "p.strip_dirs().sort_stats(pstats.SortKey.CUMULATIVE).print_stats(10)\n"
   ]
  },
  {
   "cell_type": "code",
   "execution_count": 26,
   "metadata": {},
   "outputs": [
    {
     "name": "stdout",
     "output_type": "stream",
     "text": [
      "Tue Dec 13 10:53:14 2022    C:/Simulations/Next-Vis Timing/NV 1p16 update01.prof\n",
      "\n",
      "         1021826 function calls (1018263 primitive calls) in 3.185 seconds\n",
      "\n",
      "   Ordered by: cumulative time\n",
      "   List reduced from 1485 to 10 due to restriction <10>\n",
      "\n",
      "   ncalls  tottime  percall  cumtime  percall filename:lineno(function)\n",
      "        1    0.083    0.083    3.185    3.185 NV_parser.py:353(parse_file)\n",
      "   538507    2.671    0.000    2.671    0.000 {method 'search' of 're.Pattern' objects}\n",
      "        6    0.077    0.013    2.250    0.375 NV_parser.py:919(sum_parser)\n",
      "        8    0.002    0.000    0.158    0.020 NV_parser.py:882(to_dataframe2)\n",
      "        1    0.000    0.000    0.110    0.110 NV_parser.py:789(create_ss_dfs)\n",
      "       10    0.000    0.000    0.089    0.009 frame.py:7625(apply)\n",
      "       10    0.000    0.000    0.086    0.009 apply.py:141(get_result)\n",
      "       10    0.000    0.000    0.086    0.009 apply.py:275(apply_standard)\n",
      "       10    0.000    0.000    0.072    0.007 apply.py:281(apply_series_generator)\n",
      "       99    0.001    0.000    0.067    0.001 numeric.py:20(to_numeric)\n",
      "\n",
      "\n"
     ]
    },
    {
     "data": {
      "text/plain": [
       "<pstats.Stats at 0x19565979d00>"
      ]
     },
     "execution_count": 26,
     "metadata": {},
     "output_type": "execute_result"
    }
   ],
   "source": [
    "p = pstats.Stats(\"C:/Simulations/Next-Vis Timing/NV 1p16 update01.prof\")\n",
    "\n",
    "p.strip_dirs().sort_stats(pstats.SortKey.CUMULATIVE).print_stats(10)"
   ]
  },
  {
   "cell_type": "code",
   "execution_count": 29,
   "metadata": {},
   "outputs": [
    {
     "name": "stdout",
     "output_type": "stream",
     "text": [
      "Tue Dec 13 11:57:08 2022    C:/Simulations/Next-Vis Timing/NV 1p16 No Summary.prof\n",
      "\n",
      "         1336657 function calls (1333022 primitive calls) in 4.615 seconds\n",
      "\n",
      "   Ordered by: cumulative time\n",
      "   List reduced from 1480 to 10 due to restriction <10>\n",
      "\n",
      "   ncalls  tottime  percall  cumtime  percall filename:lineno(function)\n",
      "        1    0.443    0.443    4.615    4.615 NV_parser.py:378(parse_file)\n",
      "        6    0.117    0.020    2.846    0.474 NV_parser.py:944(sum_parser)\n",
      "      792    0.534    0.001    2.678    0.003 NV_parser.py:1037(summary_of_simulation_parser)\n",
      "   742657    2.665    0.000    2.665    0.000 {method 'search' of 're.Pattern' objects}\n",
      "        8    0.004    0.000    0.368    0.046 NV_parser.py:907(to_dataframe2)\n",
      "        1    0.001    0.001    0.231    0.231 NV_parser.py:814(create_ss_dfs)\n",
      "       10    0.000    0.000    0.194    0.019 frame.py:7625(apply)\n",
      "       10    0.000    0.000    0.191    0.019 apply.py:141(get_result)\n",
      "       10    0.000    0.000    0.190    0.019 apply.py:275(apply_standard)\n",
      "       39    0.001    0.000    0.185    0.005 frame.py:502(__init__)\n",
      "\n",
      "\n"
     ]
    },
    {
     "data": {
      "text/plain": [
       "<pstats.Stats at 0x19565a086d0>"
      ]
     },
     "execution_count": 29,
     "metadata": {},
     "output_type": "execute_result"
    }
   ],
   "source": [
    "p = pstats.Stats(\"C:/Simulations/Next-Vis Timing/NV 1p16 No Summary.prof\")\n",
    "\n",
    "p.strip_dirs().sort_stats(pstats.SortKey.CUMULATIVE).print_stats(10)"
   ]
  },
  {
   "cell_type": "code",
   "execution_count": 38,
   "metadata": {},
   "outputs": [
    {
     "name": "stdout",
     "output_type": "stream",
     "text": [
      "Tue Dec 13 12:37:18 2022    C:/Simulations/Next-Vis Timing/NV 1p16 Sum of Sim Parser.prof\n",
      "\n",
      "         1159512 function calls (1155877 primitive calls) in 3.173 seconds\n",
      "\n",
      "   Ordered by: cumulative time\n",
      "   List reduced from 1486 to 10 due to restriction <10>\n",
      "\n",
      "   ncalls  tottime  percall  cumtime  percall filename:lineno(function)\n",
      "        1    0.085    0.085    3.173    3.173 NV_parser.py:378(parse_file)\n",
      "   577345    2.593    0.000    2.593    0.000 {method 'search' of 're.Pattern' objects}\n",
      "        6    0.021    0.004    2.206    0.368 NV_parser.py:944(sum_parser)\n",
      "      792    0.084    0.000    2.161    0.003 NV_parser.py:1020(summary_of_simulation_parser)\n",
      "        8    0.003    0.000    0.192    0.024 NV_parser.py:907(to_dataframe2)\n",
      "        1    0.000    0.000    0.108    0.108 NV_parser.py:814(create_ss_dfs)\n",
      "       10    0.000    0.000    0.108    0.011 frame.py:7625(apply)\n",
      "       10    0.000    0.000    0.105    0.011 apply.py:141(get_result)\n",
      "       10    0.000    0.000    0.105    0.010 apply.py:275(apply_standard)\n",
      "       10    0.001    0.000    0.089    0.009 apply.py:281(apply_series_generator)\n",
      "\n",
      "\n"
     ]
    },
    {
     "data": {
      "text/plain": [
       "<pstats.Stats at 0x19565a08760>"
      ]
     },
     "execution_count": 38,
     "metadata": {},
     "output_type": "execute_result"
    }
   ],
   "source": [
    "p = pstats.Stats(\"C:/Simulations/Next-Vis Timing/NV 1p16 Sum of Sim Parser.prof\")\n",
    "\n",
    "p.strip_dirs().sort_stats(pstats.SortKey.CUMULATIVE).print_stats(10)\n"
   ]
  },
  {
   "cell_type": "code",
   "execution_count": 39,
   "metadata": {},
   "outputs": [
    {
     "name": "stdout",
     "output_type": "stream",
     "text": [
      "Tue Dec 13 12:47:53 2022    C:/Simulations/Next-Vis Timing/NV 1p16 Sum of Sim Parser01.prof\n",
      "\n",
      "         1060186 function calls (1056617 primitive calls) in 3.206 seconds\n",
      "\n",
      "   Ordered by: cumulative time\n",
      "   List reduced from 1486 to 10 due to restriction <10>\n",
      "\n",
      "   ncalls  tottime  percall  cumtime  percall filename:lineno(function)\n",
      "        1    0.083    0.083    3.206    3.206 NV_parser.py:380(parse_file)\n",
      "   503149    2.679    0.000    2.679    0.000 {method 'search' of 're.Pattern' objects}\n",
      "        6    0.022    0.004    2.212    0.369 NV_parser.py:946(sum_parser)\n",
      "      792    0.063    0.000    2.160    0.003 NV_parser.py:1022(summary_of_simulation_parser)\n",
      "        8    0.002    0.000    0.162    0.020 NV_parser.py:909(to_dataframe2)\n",
      "        1    0.000    0.000    0.110    0.110 NV_parser.py:816(create_ss_dfs)\n",
      "       10    0.000    0.000    0.091    0.009 frame.py:7625(apply)\n",
      "       10    0.000    0.000    0.089    0.009 apply.py:141(get_result)\n",
      "       10    0.000    0.000    0.088    0.009 apply.py:275(apply_standard)\n",
      "       10    0.001    0.000    0.075    0.007 apply.py:281(apply_series_generator)\n",
      "\n",
      "\n"
     ]
    },
    {
     "data": {
      "text/plain": [
       "<pstats.Stats at 0x19565979580>"
      ]
     },
     "execution_count": 39,
     "metadata": {},
     "output_type": "execute_result"
    }
   ],
   "source": [
    "p = pstats.Stats(\"C:/Simulations/Next-Vis Timing/NV 1p16 Sum of Sim Parser01.prof\")\n",
    "\n",
    "p.strip_dirs().sort_stats(pstats.SortKey.CUMULATIVE).print_stats(10)"
   ]
  }
 ],
 "metadata": {
  "kernelspec": {
   "display_name": "Python 3.8.8 ('base')",
   "language": "python",
   "name": "python3"
  },
  "language_info": {
   "codemirror_mode": {
    "name": "ipython",
    "version": 3
   },
   "file_extension": ".py",
   "mimetype": "text/x-python",
   "name": "python",
   "nbconvert_exporter": "python",
   "pygments_lexer": "ipython3",
   "version": "3.8.8"
  },
  "orig_nbformat": 4,
  "vscode": {
   "interpreter": {
    "hash": "ad2bdc8ecc057115af97d19610ffacc2b4e99fae6737bb82f5d7fb13d2f2c186"
   }
  }
 },
 "nbformat": 4,
 "nbformat_minor": 2
}
