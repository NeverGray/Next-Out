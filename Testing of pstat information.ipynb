{
 "cells": [
  {
   "cell_type": "code",
   "execution_count": 40,
   "metadata": {},
   "outputs": [
    {
     "name": "stdout",
     "output_type": "stream",
     "text": [
      "Tue Dec 13 14:08:22 2022    C:/Simulations/Next-Vis Timing/NV 1p16 NG02-T005 01.prof\n",
      "\n",
      "         8450940 function calls (8448235 primitive calls) in 28.484 seconds\n",
      "\n",
      "   Ordered by: cumulative time\n",
      "   List reduced from 1357 to 10 due to restriction <10>\n",
      "\n",
      "   ncalls  tottime  percall  cumtime  percall filename:lineno(function)\n",
      "        1    2.194    2.194   28.484   28.484 NV_parser.py:378(parse_file)\n",
      "  5342000   22.534    0.000   22.534    0.000 {method 'search' of 're.Pattern' objects}\n",
      "        1    0.055    0.055    2.801    2.801 NV_parser.py:814(create_ss_dfs)\n",
      "        2    0.060    0.030    1.806    0.903 NV_parser.py:907(to_dataframe2)\n",
      "       44    0.000    0.000    0.967    0.022 numeric.py:20(to_numeric)\n",
      "        6    0.000    0.000    0.960    0.160 frame.py:7625(apply)\n",
      "        6    0.002    0.000    0.958    0.160 apply.py:141(get_result)\n",
      "        6    0.000    0.000    0.956    0.159 apply.py:275(apply_standard)\n",
      "        6    0.000    0.000    0.941    0.157 apply.py:281(apply_series_generator)\n",
      "       39    0.000    0.000    0.936    0.024 apply.py:109(f)\n",
      "\n",
      "\n"
     ]
    },
    {
     "data": {
      "text/plain": [
       "<pstats.Stats at 0x19565962250>"
      ]
     },
     "execution_count": 40,
     "metadata": {},
     "output_type": "execute_result"
    }
   ],
   "source": [
    "import pstats\n",
    "p = pstats.Stats(\"C:/Simulations/Next-Vis Timing/NV 1p16 NG02-T005 01.prof\")\n",
    "\n",
    "p.strip_dirs().sort_stats(pstats.SortKey.CUMULATIVE).print_stats(10)\n"
   ]
  },
  {
   "cell_type": "code",
   "execution_count": 44,
   "metadata": {},
   "outputs": [
    {
     "name": "stdout",
     "output_type": "stream",
     "text": [
      "Tue Dec 13 14:22:56 2022    C:/Simulations/Next-Vis Timing/NV 1p16 NG02-T005 02.prof\n",
      "\n",
      "         6511856 function calls (6509151 primitive calls) in 27.826 seconds\n",
      "\n",
      "   Ordered by: cumulative time\n",
      "   List reduced from 1357 to 10 due to restriction <10>\n",
      "\n",
      "   ncalls  tottime  percall  cumtime  percall filename:lineno(function)\n",
      "        1    1.793    1.793   27.826   27.826 NV_parser.py:378(parse_file)\n",
      "  3645305   22.412    0.000   22.412    0.000 {method 'search' of 're.Pattern' objects}\n",
      "        1    0.052    0.052    2.727    2.727 NV_parser.py:816(create_ss_dfs)\n",
      "        2    0.059    0.029    1.772    0.886 NV_parser.py:909(to_dataframe2)\n",
      "        6    0.000    0.000    0.966    0.161 frame.py:7625(apply)\n",
      "       44    0.000    0.000    0.959    0.022 numeric.py:20(to_numeric)\n",
      "        6    0.002    0.000    0.953    0.159 apply.py:141(get_result)\n",
      "        6    0.000    0.000    0.951    0.158 apply.py:275(apply_standard)\n",
      "        6    0.000    0.000    0.938    0.156 apply.py:281(apply_series_generator)\n",
      "       39    0.000    0.000    0.933    0.024 apply.py:109(f)\n",
      "\n",
      "\n"
     ]
    },
    {
     "data": {
      "text/plain": [
       "<pstats.Stats at 0x1956872d040>"
      ]
     },
     "execution_count": 44,
     "metadata": {},
     "output_type": "execute_result"
    }
   ],
   "source": [
    "p = pstats.Stats(\"C:/Simulations/Next-Vis Timing/NV 1p16 NG02-T005 02.prof\")\n",
    "\n",
    "p.strip_dirs().sort_stats(pstats.SortKey.CUMULATIVE).print_stats(10)"
   ]
  },
  {
   "cell_type": "code",
   "execution_count": 45,
   "metadata": {},
   "outputs": [
    {
     "name": "stdout",
     "output_type": "stream",
     "text": [
      "Tue Dec 13 14:30:17 2022    C:/Simulations/Next-Vis Timing/NV 1p16 NG02-T005 03.prof\n",
      "\n",
      "         6511852 function calls (6509147 primitive calls) in 27.819 seconds\n",
      "\n",
      "   Ordered by: cumulative time\n",
      "   List reduced from 1357 to 10 due to restriction <10>\n",
      "\n",
      "   ncalls  tottime  percall  cumtime  percall filename:lineno(function)\n",
      "        1    1.801    1.801   27.819   27.819 NV_parser.py:378(parse_file)\n",
      "  3645305   22.359    0.000   22.359    0.000 {method 'search' of 're.Pattern' objects}\n",
      "        1    0.053    0.053    2.746    2.746 NV_parser.py:816(create_ss_dfs)\n",
      "        2    0.054    0.027    1.739    0.869 NV_parser.py:909(to_dataframe2)\n",
      "       44    0.000    0.000    0.937    0.021 numeric.py:20(to_numeric)\n",
      "        6    0.000    0.000    0.935    0.156 frame.py:7625(apply)\n",
      "        6    0.002    0.000    0.934    0.156 apply.py:141(get_result)\n",
      "        6    0.000    0.000    0.931    0.155 apply.py:275(apply_standard)\n",
      "        6    0.000    0.000    0.920    0.153 apply.py:281(apply_series_generator)\n",
      "       39    0.000    0.000    0.915    0.023 apply.py:109(f)\n",
      "\n",
      "\n"
     ]
    },
    {
     "data": {
      "text/plain": [
       "<pstats.Stats at 0x19565a08040>"
      ]
     },
     "execution_count": 45,
     "metadata": {},
     "output_type": "execute_result"
    }
   ],
   "source": [
    "p = pstats.Stats(\"C:/Simulations/Next-Vis Timing/NV 1p16 NG02-T005 03.prof\")\n",
    "\n",
    "p.strip_dirs().sort_stats(pstats.SortKey.CUMULATIVE).print_stats(10)"
   ]
  },
  {
   "cell_type": "code",
   "execution_count": 46,
   "metadata": {},
   "outputs": [
    {
     "name": "stdout",
     "output_type": "stream",
     "text": [
      "Tue Dec 13 14:38:26 2022    C:/Simulations/Next-Vis Timing/NV 1p16 NG02-T005 04.prof\n",
      "\n",
      "         5526162 function calls (5523457 primitive calls) in 26.795 seconds\n",
      "\n",
      "   Ordered by: cumulative time\n",
      "   List reduced from 1357 to 10 due to restriction <10>\n",
      "\n",
      "   ncalls  tottime  percall  cumtime  percall filename:lineno(function)\n",
      "        1    1.575    1.575   26.795   26.795 NV_parser.py:378(parse_file)\n",
      "  2659609   21.513    0.000   21.513    0.000 {method 'search' of 're.Pattern' objects}\n",
      "        1    0.053    0.053    2.789    2.789 NV_parser.py:821(create_ss_dfs)\n",
      "        2    0.055    0.028    1.797    0.898 NV_parser.py:914(to_dataframe2)\n",
      "        6    0.000    0.000    0.972    0.162 frame.py:7625(apply)\n",
      "       44    0.000    0.000    0.964    0.022 numeric.py:20(to_numeric)\n",
      "        6    0.002    0.000    0.959    0.160 apply.py:141(get_result)\n",
      "        6    0.000    0.000    0.957    0.159 apply.py:275(apply_standard)\n",
      "        6    0.000    0.000    0.942    0.157 apply.py:281(apply_series_generator)\n",
      "       39    0.000    0.000    0.938    0.024 apply.py:109(f)\n",
      "\n",
      "\n"
     ]
    },
    {
     "data": {
      "text/plain": [
       "<pstats.Stats at 0x1956872dfd0>"
      ]
     },
     "execution_count": 46,
     "metadata": {},
     "output_type": "execute_result"
    }
   ],
   "source": [
    "p = pstats.Stats(\"C:/Simulations/Next-Vis Timing/NV 1p16 NG02-T005 04.prof\")\n",
    "\n",
    "p.strip_dirs().sort_stats(pstats.SortKey.CUMULATIVE).print_stats(10)\n"
   ]
  },
  {
   "cell_type": "code",
   "execution_count": 48,
   "metadata": {},
   "outputs": [
    {
     "name": "stdout",
     "output_type": "stream",
     "text": [
      "Tue Dec 13 15:56:36 2022    C:/Simulations/Next-Vis Timing/NV 1p16 Update010.prof\n",
      "\n",
      "         1110196 function calls (1106561 primitive calls) in 3.194 seconds\n",
      "\n",
      "   Ordered by: cumulative time\n",
      "   List reduced from 1486 to 10 due to restriction <10>\n",
      "\n",
      "   ncalls  tottime  percall  cumtime  percall filename:lineno(function)\n",
      "        1    0.075    0.075    3.194    3.194 NV_parser.py:378(parse_file)\n",
      "   533033    2.607    0.000    2.607    0.000 {method 'search' of 're.Pattern' objects}\n",
      "        6    0.022    0.004    2.247    0.375 NV_parser.py:964(sum_parser)\n",
      "      792    0.086    0.000    2.201    0.003 NV_parser.py:1030(summary_of_simulation_parser)\n",
      "        8    0.004    0.000    0.197    0.025 NV_parser.py:927(to_dataframe2)\n",
      "        1    0.001    0.001    0.112    0.112 NV_parser.py:834(create_ss_dfs)\n",
      "       10    0.000    0.000    0.110    0.011 frame.py:7625(apply)\n",
      "       10    0.000    0.000    0.107    0.011 apply.py:141(get_result)\n",
      "       10    0.000    0.000    0.106    0.011 apply.py:275(apply_standard)\n",
      "       10    0.001    0.000    0.090    0.009 apply.py:281(apply_series_generator)\n",
      "\n",
      "\n"
     ]
    },
    {
     "data": {
      "text/plain": [
       "<pstats.Stats at 0x19565979b50>"
      ]
     },
     "execution_count": 48,
     "metadata": {},
     "output_type": "execute_result"
    }
   ],
   "source": [
    "p = pstats.Stats(\"C:/Simulations/Next-Vis Timing/NV 1p16 Update010.prof\")\n",
    "\n",
    "p.strip_dirs().sort_stats(pstats.SortKey.CUMULATIVE).print_stats(10)"
   ]
  },
  {
   "cell_type": "code",
   "execution_count": 49,
   "metadata": {},
   "outputs": [
    {
     "name": "stdout",
     "output_type": "stream",
     "text": [
      "Tue Dec 13 15:58:58 2022    C:/Simulations/Next-Vis Timing/NV 1p16 NG02-T005 010.prof\n",
      "\n",
      "         5520802 function calls (5518097 primitive calls) in 26.555 seconds\n",
      "\n",
      "   Ordered by: cumulative time\n",
      "   List reduced from 1357 to 10 due to restriction <10>\n",
      "\n",
      "   ncalls  tottime  percall  cumtime  percall filename:lineno(function)\n",
      "        1    1.528    1.528   26.555   26.555 NV_parser.py:378(parse_file)\n",
      "  2656009   21.328    0.000   21.328    0.000 {method 'search' of 're.Pattern' objects}\n",
      "        1    0.052    0.052    2.773    2.773 NV_parser.py:834(create_ss_dfs)\n",
      "        2    0.054    0.027    1.779    0.890 NV_parser.py:927(to_dataframe2)\n",
      "       44    0.000    0.000    0.955    0.022 numeric.py:20(to_numeric)\n",
      "        6    0.000    0.000    0.953    0.159 frame.py:7625(apply)\n",
      "        6    0.002    0.000    0.951    0.159 apply.py:141(get_result)\n",
      "        6    0.000    0.000    0.949    0.158 apply.py:275(apply_standard)\n",
      "        6    0.000    0.000    0.934    0.156 apply.py:281(apply_series_generator)\n",
      "       39    0.000    0.000    0.929    0.024 apply.py:109(f)\n",
      "\n",
      "\n"
     ]
    },
    {
     "data": {
      "text/plain": [
       "<pstats.Stats at 0x19565a08f70>"
      ]
     },
     "execution_count": 49,
     "metadata": {},
     "output_type": "execute_result"
    }
   ],
   "source": [
    "p = pstats.Stats(\"C:/Simulations/Next-Vis Timing/NV 1p16 NG02-T005 010.prof\")\n",
    "\n",
    "p.strip_dirs().sort_stats(pstats.SortKey.CUMULATIVE).print_stats(10)"
   ]
  }
 ],
 "metadata": {
  "kernelspec": {
   "display_name": "Python 3.8.8 ('base')",
   "language": "python",
   "name": "python3"
  },
  "language_info": {
   "codemirror_mode": {
    "name": "ipython",
    "version": 3
   },
   "file_extension": ".py",
   "mimetype": "text/x-python",
   "name": "python",
   "nbconvert_exporter": "python",
   "pygments_lexer": "ipython3",
   "version": "3.8.8"
  },
  "orig_nbformat": 4,
  "vscode": {
   "interpreter": {
    "hash": "ad2bdc8ecc057115af97d19610ffacc2b4e99fae6737bb82f5d7fb13d2f2c186"
   }
  }
 },
 "nbformat": 4,
 "nbformat_minor": 2
}
