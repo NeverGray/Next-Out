{
 "cells": [
  {
   "cell_type": "code",
   "execution_count": 5,
   "metadata": {},
   "outputs": [
    {
     "name": "stdout",
     "output_type": "stream",
     "text": [
      "Tue Dec 13 09:18:27 2022    C:/Simulations/Next-Vis Timing/NV 1p16 xlsxwriter replacement.prof\n",
      "\n",
      "         5646079 function calls (5645309 primitive calls) in 4.021 seconds\n",
      "\n",
      "   Ordered by: cumulative time\n",
      "   List reduced from 859 to 10 due to restriction <10>\n",
      "\n",
      "   ncalls  tottime  percall  cumtime  percall filename:lineno(function)\n",
      "        1    0.001    0.001    4.064    4.064 NV_excel_R01.py:25(create_excel)\n",
      "        9    0.000    0.000    2.343    0.260 generic.py:2034(to_excel)\n",
      "        9    0.000    0.000    2.343    0.260 excel.py:761(write)\n",
      "        9    0.283    0.031    2.343    0.260 _xlsxwriter.py:200(write_cells)\n",
      "        1    0.000    0.000    1.677    1.677 _base.py:893(__exit__)\n",
      "        1    0.000    0.000    1.677    1.677 _base.py:896(close)\n",
      "        1    0.000    0.000    1.677    1.677 _xlsxwriter.py:194(save)\n",
      "        1    0.000    0.000    1.677    1.677 workbook.py:307(close)\n",
      "        1    0.000    0.000    1.677    1.677 workbook.py:654(_store_workbook)\n",
      "        1    0.000    0.000    1.428    1.428 packager.py:130(_create_package)\n",
      "\n",
      "\n"
     ]
    },
    {
     "data": {
      "text/plain": [
       "<pstats.Stats at 0x19565a08bb0>"
      ]
     },
     "execution_count": 5,
     "metadata": {},
     "output_type": "execute_result"
    }
   ],
   "source": [
    "import pstats\n",
    "p = pstats.Stats(\"C:/Simulations/Next-Vis Timing/NV 1p16 xlsxwriter replacement.prof\")\n",
    "\n",
    "p.strip_dirs().sort_stats(pstats.SortKey.CUMULATIVE).print_stats(10)\n"
   ]
  },
  {
   "cell_type": "code",
   "execution_count": 6,
   "metadata": {},
   "outputs": [
    {
     "name": "stdout",
     "output_type": "stream",
     "text": [
      "Tue Dec 13 09:19:18 2022    C:/Simulations/Next-Vis Timing/NV 1p15.prof\n",
      "\n",
      "         34275193 function calls (33272605 primitive calls) in 15.269 seconds\n",
      "\n",
      "   Ordered by: cumulative time\n",
      "   List reduced from 713 to 10 due to restriction <10>\n",
      "\n",
      "   ncalls  tottime  percall  cumtime  percall filename:lineno(function)\n",
      "        1    0.001    0.001   15.269   15.269 NV_excel.py:24(create_excel)\n",
      "        9    0.000    0.000   10.326    1.147 generic.py:2034(to_excel)\n",
      "        9    0.000    0.000   10.326    1.147 excel.py:761(write)\n",
      "        9    0.487    0.054   10.325    1.147 _openpyxl.py:390(write_cells)\n",
      "228713/114506    0.102    0.000    7.926    0.000 {built-in method builtins.setattr}\n",
      "   114487    0.188    0.000    7.887    0.000 styleable.py:23(__set__)\n",
      "   190862    0.178    0.000    7.716    0.000 indexed_list.py:47(add)\n",
      "485830/208394    1.451    0.000    4.375    0.000 serialisable.py:173(__eq__)\n",
      "        2    0.000    0.000    4.227    2.113 _openpyxl.py:50(save)\n",
      "        2    0.000    0.000    4.227    2.113 workbook.py:394(save)\n",
      "\n",
      "\n"
     ]
    },
    {
     "data": {
      "text/plain": [
       "<pstats.Stats at 0x19565979ca0>"
      ]
     },
     "execution_count": 6,
     "metadata": {},
     "output_type": "execute_result"
    }
   ],
   "source": [
    "p = pstats.Stats(\"C:/Simulations/Next-Vis Timing/NV 1p15.prof\")\n",
    "\n",
    "p.strip_dirs().sort_stats(pstats.SortKey.CUMULATIVE).print_stats(10)"
   ]
  }
 ],
 "metadata": {
  "kernelspec": {
   "display_name": "Python 3.8.8 ('base')",
   "language": "python",
   "name": "python3"
  },
  "language_info": {
   "codemirror_mode": {
    "name": "ipython",
    "version": 3
   },
   "file_extension": ".py",
   "mimetype": "text/x-python",
   "name": "python",
   "nbconvert_exporter": "python",
   "pygments_lexer": "ipython3",
   "version": "3.8.8"
  },
  "orig_nbformat": 4,
  "vscode": {
   "interpreter": {
    "hash": "ad2bdc8ecc057115af97d19610ffacc2b4e99fae6737bb82f5d7fb13d2f2c186"
   }
  }
 },
 "nbformat": 4,
 "nbformat_minor": 2
}
