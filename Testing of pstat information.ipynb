{
 "cells": [
  {
   "cell_type": "code",
   "execution_count": 8,
   "metadata": {},
   "outputs": [
    {
     "name": "stdout",
     "output_type": "stream",
     "text": [
      "Fri Dec 16 11:16:27 2022    C:/Simulations/SpeedTest/1.20/Test03.prof\n",
      "\n",
      "         515644921 function calls (515642466 primitive calls) in 443.560 seconds\n",
      "\n",
      "   Ordered by: cumulative time\n",
      "   List reduced from 1541 to 50 due to restriction <50>\n",
      "\n",
      "   ncalls  tottime  percall  cumtime  percall filename:lineno(function)\n",
      "        1    0.973    0.973  446.509  446.509 NV_run.py:17(single_sim)\n",
      "        1    0.001    0.001  336.027  336.027 NV_excel_R01.py:24(create_excel)\n",
      "        9    0.000    0.000  189.826   21.092 generic.py:2034(to_excel)\n",
      "        9    0.000    0.000  189.826   21.092 excel.py:761(write)\n",
      "        9   22.975    2.553  189.825   21.092 _xlsxwriter.py:200(write_cells)\n",
      "        1    0.000    0.000  146.148  146.148 _base.py:893(__exit__)\n",
      "        1    0.000    0.000  146.148  146.148 _base.py:896(close)\n",
      "        1    0.000    0.000  146.148  146.148 _xlsxwriter.py:194(save)\n",
      "        1    0.000    0.000  146.148  146.148 workbook.py:307(close)\n",
      "        1    0.000    0.000  146.148  146.148 workbook.py:654(_store_workbook)\n",
      "        1    0.000    0.000  132.474  132.474 packager.py:130(_create_package)\n",
      "        1    8.785    8.785  109.509  109.509 NV_parser.py:378(parse_file)\n",
      "        1    0.000    0.000  104.289  104.289 packager.py:177(_write_worksheet_files)\n",
      "        9    0.000    0.000  104.282   11.587 worksheet.py:3852(_assemble_xml_file)\n",
      "        9    0.000    0.000  104.266   11.585 worksheet.py:5485(_write_sheet_data)\n",
      "        9   12.532    1.392  104.266   11.585 worksheet.py:5659(_write_rows)\n",
      " 39827591   98.472    0.000   98.472    0.000 {method 'search' of 're.Pattern' objects}\n",
      "  9492030   16.448    0.000   76.911    0.000 worksheet.py:5841(_write_cell)\n",
      " 10922671   10.575    0.000   70.751    0.000 worksheet.py:57(cell_wrapper)\n",
      " 10922382    7.465    0.000   62.145    0.000 excel.py:756(get_formatted_cells)\n",
      " 10922662    6.584    0.000   59.183    0.000 worksheet.py:405(write)\n",
      " 10922662   12.721    0.000   52.599    0.000 worksheet.py:425(_write)\n",
      "  7314008   19.372    0.000   42.250    0.000 xmlwriter.py:129(_xml_number_element)\n",
      " 10922373   13.749    0.000   29.032    0.000 excel.py:495(_format_value)\n",
      "        1    0.000    0.000   28.175   28.175 packager.py:278(_write_shared_strings_file)\n",
      "        1    0.000    0.000   28.175   28.175 sharedstrings.py:44(_assemble_xml_file)\n",
      "        1    0.474    0.474   28.175   28.175 sharedstrings.py:80(_write_sst_strings)\n",
      "  1456229    4.400    0.000   27.700    0.000 sharedstrings.py:86(_write_si)\n",
      " 10922287    9.266    0.000   25.647    0.000 excel.py:660(_format_hierarchical_rows)\n",
      "  7314008   11.949    0.000   25.222    0.000 worksheet.py:578(_write_number)\n",
      " 13942883    6.519    0.000   22.643    0.000 codecs.py:719(write)\n",
      " 10922373   21.520    0.000   21.520    0.000 {built-in method pandas._libs.json.dumps}\n",
      " 13942883    9.332    0.000   16.124    0.000 codecs.py:373(write)\n",
      "  3608653    3.539    0.000   13.809    0.000 worksheet.py:370(_write_token_as_string)\n",
      "       18    0.002    0.000   13.342    0.741 zipfile.py:1729(write)\n",
      " 10922373    9.068    0.000   12.437    0.000 _base.py:837(_value_with_fmt)\n",
      " 13238727    6.317    0.000   12.396    0.000 xmlwriter.py:180(_escape_attributes)\n",
      "  7176281    9.538    0.000   12.165    0.000 excel.py:739(_generate_body)\n",
      "  5824916    2.818    0.000   11.275    0.000 re.py:203(sub)\n",
      " 10922504    3.503    0.000   10.980    0.000 missing.py:50(isna)\n",
      "       18    0.040    0.002   10.373    0.576 shutil.py:197(copyfileobj)\n",
      "  9492156   10.102    0.000   10.102    0.000 worksheet.py:3949(_check_dimensions)\n",
      "    50737    0.115    0.000    9.919    0.000 zipfile.py:1132(write)\n",
      "  2178147    3.957    0.000    9.365    0.000 worksheet.py:531(_write_string)\n",
      "  2178021    3.967    0.000    9.297    0.000 xmlwriter.py:102(_xml_string_element)\n",
      "    50737    9.281    0.000    9.281    0.000 {method 'compress' of 'zlib.Compress' objects}\n",
      "  1497136    2.469    0.000    7.933    0.000 worksheet.py:5786(_write_row)\n",
      "        5    0.131    0.026    7.643    1.529 NV_parser.py:965(sum_parser)\n",
      " 10922504    4.942    0.000    7.476    0.000 missing.py:133(_isna)\n",
      "     3535    0.303    0.000    7.358    0.002 NV_parser.py:1031(summary_of_simulation_parser)\n",
      "\n",
      "\n"
     ]
    },
    {
     "data": {
      "text/plain": [
       "<pstats.Stats at 0x2660ee90f10>"
      ]
     },
     "execution_count": 8,
     "metadata": {},
     "output_type": "execute_result"
    }
   ],
   "source": [
    "import pstats\n",
    "p = pstats.Stats(\"C:/Simulations/SpeedTest/1.20/Test03.prof\")\n",
    "\n",
    "p.strip_dirs().sort_stats(pstats.SortKey.CUMULATIVE).print_stats(50)\n"
   ]
  },
  {
   "cell_type": "code",
   "execution_count": 44,
   "metadata": {},
   "outputs": [
    {
     "name": "stdout",
     "output_type": "stream",
     "text": [
      "Tue Dec 13 14:22:56 2022    C:/Simulations/Next-Vis Timing/NV 1p16 NG02-T005 02.prof\n",
      "\n",
      "         6511856 function calls (6509151 primitive calls) in 27.826 seconds\n",
      "\n",
      "   Ordered by: cumulative time\n",
      "   List reduced from 1357 to 10 due to restriction <10>\n",
      "\n",
      "   ncalls  tottime  percall  cumtime  percall filename:lineno(function)\n",
      "        1    1.793    1.793   27.826   27.826 NV_parser.py:378(parse_file)\n",
      "  3645305   22.412    0.000   22.412    0.000 {method 'search' of 're.Pattern' objects}\n",
      "        1    0.052    0.052    2.727    2.727 NV_parser.py:816(create_ss_dfs)\n",
      "        2    0.059    0.029    1.772    0.886 NV_parser.py:909(to_dataframe2)\n",
      "        6    0.000    0.000    0.966    0.161 frame.py:7625(apply)\n",
      "       44    0.000    0.000    0.959    0.022 numeric.py:20(to_numeric)\n",
      "        6    0.002    0.000    0.953    0.159 apply.py:141(get_result)\n",
      "        6    0.000    0.000    0.951    0.158 apply.py:275(apply_standard)\n",
      "        6    0.000    0.000    0.938    0.156 apply.py:281(apply_series_generator)\n",
      "       39    0.000    0.000    0.933    0.024 apply.py:109(f)\n",
      "\n",
      "\n"
     ]
    },
    {
     "data": {
      "text/plain": [
       "<pstats.Stats at 0x1956872d040>"
      ]
     },
     "execution_count": 44,
     "metadata": {},
     "output_type": "execute_result"
    }
   ],
   "source": [
    "p = pstats.Stats(\"C:/Simulations/Next-Vis Timing/NV 1p16 NG02-T005 02.prof\")\n",
    "\n",
    "p.strip_dirs().sort_stats(pstats.SortKey.CUMULATIVE).print_stats(10)"
   ]
  },
  {
   "cell_type": "code",
   "execution_count": 45,
   "metadata": {},
   "outputs": [
    {
     "name": "stdout",
     "output_type": "stream",
     "text": [
      "Tue Dec 13 14:30:17 2022    C:/Simulations/Next-Vis Timing/NV 1p16 NG02-T005 03.prof\n",
      "\n",
      "         6511852 function calls (6509147 primitive calls) in 27.819 seconds\n",
      "\n",
      "   Ordered by: cumulative time\n",
      "   List reduced from 1357 to 10 due to restriction <10>\n",
      "\n",
      "   ncalls  tottime  percall  cumtime  percall filename:lineno(function)\n",
      "        1    1.801    1.801   27.819   27.819 NV_parser.py:378(parse_file)\n",
      "  3645305   22.359    0.000   22.359    0.000 {method 'search' of 're.Pattern' objects}\n",
      "        1    0.053    0.053    2.746    2.746 NV_parser.py:816(create_ss_dfs)\n",
      "        2    0.054    0.027    1.739    0.869 NV_parser.py:909(to_dataframe2)\n",
      "       44    0.000    0.000    0.937    0.021 numeric.py:20(to_numeric)\n",
      "        6    0.000    0.000    0.935    0.156 frame.py:7625(apply)\n",
      "        6    0.002    0.000    0.934    0.156 apply.py:141(get_result)\n",
      "        6    0.000    0.000    0.931    0.155 apply.py:275(apply_standard)\n",
      "        6    0.000    0.000    0.920    0.153 apply.py:281(apply_series_generator)\n",
      "       39    0.000    0.000    0.915    0.023 apply.py:109(f)\n",
      "\n",
      "\n"
     ]
    },
    {
     "data": {
      "text/plain": [
       "<pstats.Stats at 0x19565a08040>"
      ]
     },
     "execution_count": 45,
     "metadata": {},
     "output_type": "execute_result"
    }
   ],
   "source": [
    "p = pstats.Stats(\"C:/Simulations/Next-Vis Timing/NV 1p16 NG02-T005 03.prof\")\n",
    "\n",
    "p.strip_dirs().sort_stats(pstats.SortKey.CUMULATIVE).print_stats(10)"
   ]
  },
  {
   "cell_type": "code",
   "execution_count": 46,
   "metadata": {},
   "outputs": [
    {
     "name": "stdout",
     "output_type": "stream",
     "text": [
      "Tue Dec 13 14:38:26 2022    C:/Simulations/Next-Vis Timing/NV 1p16 NG02-T005 04.prof\n",
      "\n",
      "         5526162 function calls (5523457 primitive calls) in 26.795 seconds\n",
      "\n",
      "   Ordered by: cumulative time\n",
      "   List reduced from 1357 to 10 due to restriction <10>\n",
      "\n",
      "   ncalls  tottime  percall  cumtime  percall filename:lineno(function)\n",
      "        1    1.575    1.575   26.795   26.795 NV_parser.py:378(parse_file)\n",
      "  2659609   21.513    0.000   21.513    0.000 {method 'search' of 're.Pattern' objects}\n",
      "        1    0.053    0.053    2.789    2.789 NV_parser.py:821(create_ss_dfs)\n",
      "        2    0.055    0.028    1.797    0.898 NV_parser.py:914(to_dataframe2)\n",
      "        6    0.000    0.000    0.972    0.162 frame.py:7625(apply)\n",
      "       44    0.000    0.000    0.964    0.022 numeric.py:20(to_numeric)\n",
      "        6    0.002    0.000    0.959    0.160 apply.py:141(get_result)\n",
      "        6    0.000    0.000    0.957    0.159 apply.py:275(apply_standard)\n",
      "        6    0.000    0.000    0.942    0.157 apply.py:281(apply_series_generator)\n",
      "       39    0.000    0.000    0.938    0.024 apply.py:109(f)\n",
      "\n",
      "\n"
     ]
    },
    {
     "data": {
      "text/plain": [
       "<pstats.Stats at 0x1956872dfd0>"
      ]
     },
     "execution_count": 46,
     "metadata": {},
     "output_type": "execute_result"
    }
   ],
   "source": [
    "p = pstats.Stats(\"C:/Simulations/Next-Vis Timing/NV 1p16 NG02-T005 04.prof\")\n",
    "\n",
    "p.strip_dirs().sort_stats(pstats.SortKey.CUMULATIVE).print_stats(10)\n"
   ]
  },
  {
   "cell_type": "code",
   "execution_count": 48,
   "metadata": {},
   "outputs": [
    {
     "name": "stdout",
     "output_type": "stream",
     "text": [
      "Tue Dec 13 15:56:36 2022    C:/Simulations/Next-Vis Timing/NV 1p16 Update010.prof\n",
      "\n",
      "         1110196 function calls (1106561 primitive calls) in 3.194 seconds\n",
      "\n",
      "   Ordered by: cumulative time\n",
      "   List reduced from 1486 to 10 due to restriction <10>\n",
      "\n",
      "   ncalls  tottime  percall  cumtime  percall filename:lineno(function)\n",
      "        1    0.075    0.075    3.194    3.194 NV_parser.py:378(parse_file)\n",
      "   533033    2.607    0.000    2.607    0.000 {method 'search' of 're.Pattern' objects}\n",
      "        6    0.022    0.004    2.247    0.375 NV_parser.py:964(sum_parser)\n",
      "      792    0.086    0.000    2.201    0.003 NV_parser.py:1030(summary_of_simulation_parser)\n",
      "        8    0.004    0.000    0.197    0.025 NV_parser.py:927(to_dataframe2)\n",
      "        1    0.001    0.001    0.112    0.112 NV_parser.py:834(create_ss_dfs)\n",
      "       10    0.000    0.000    0.110    0.011 frame.py:7625(apply)\n",
      "       10    0.000    0.000    0.107    0.011 apply.py:141(get_result)\n",
      "       10    0.000    0.000    0.106    0.011 apply.py:275(apply_standard)\n",
      "       10    0.001    0.000    0.090    0.009 apply.py:281(apply_series_generator)\n",
      "\n",
      "\n"
     ]
    },
    {
     "data": {
      "text/plain": [
       "<pstats.Stats at 0x19565979b50>"
      ]
     },
     "execution_count": 48,
     "metadata": {},
     "output_type": "execute_result"
    }
   ],
   "source": [
    "p = pstats.Stats(\"C:/Simulations/Next-Vis Timing/NV 1p16 Update010.prof\")\n",
    "\n",
    "p.strip_dirs().sort_stats(pstats.SortKey.CUMULATIVE).print_stats(10)"
   ]
  },
  {
   "cell_type": "code",
   "execution_count": 49,
   "metadata": {},
   "outputs": [
    {
     "name": "stdout",
     "output_type": "stream",
     "text": [
      "Tue Dec 13 15:58:58 2022    C:/Simulations/Next-Vis Timing/NV 1p16 NG02-T005 010.prof\n",
      "\n",
      "         5520802 function calls (5518097 primitive calls) in 26.555 seconds\n",
      "\n",
      "   Ordered by: cumulative time\n",
      "   List reduced from 1357 to 10 due to restriction <10>\n",
      "\n",
      "   ncalls  tottime  percall  cumtime  percall filename:lineno(function)\n",
      "        1    1.528    1.528   26.555   26.555 NV_parser.py:378(parse_file)\n",
      "  2656009   21.328    0.000   21.328    0.000 {method 'search' of 're.Pattern' objects}\n",
      "        1    0.052    0.052    2.773    2.773 NV_parser.py:834(create_ss_dfs)\n",
      "        2    0.054    0.027    1.779    0.890 NV_parser.py:927(to_dataframe2)\n",
      "       44    0.000    0.000    0.955    0.022 numeric.py:20(to_numeric)\n",
      "        6    0.000    0.000    0.953    0.159 frame.py:7625(apply)\n",
      "        6    0.002    0.000    0.951    0.159 apply.py:141(get_result)\n",
      "        6    0.000    0.000    0.949    0.158 apply.py:275(apply_standard)\n",
      "        6    0.000    0.000    0.934    0.156 apply.py:281(apply_series_generator)\n",
      "       39    0.000    0.000    0.929    0.024 apply.py:109(f)\n",
      "\n",
      "\n"
     ]
    },
    {
     "data": {
      "text/plain": [
       "<pstats.Stats at 0x19565a08f70>"
      ]
     },
     "execution_count": 49,
     "metadata": {},
     "output_type": "execute_result"
    }
   ],
   "source": [
    "p = pstats.Stats(\"C:/Simulations/Next-Vis Timing/NV 1p16 NG02-T005 010.prof\")\n",
    "\n",
    "p.strip_dirs().sort_stats(pstats.SortKey.CUMULATIVE).print_stats(10)"
   ]
  }
 ],
 "metadata": {
  "kernelspec": {
   "display_name": "Python 3.8.8 ('base')",
   "language": "python",
   "name": "python3"
  },
  "language_info": {
   "codemirror_mode": {
    "name": "ipython",
    "conversion": 3
   },
   "file_extension": ".py",
   "mimetype": "text/x-python",
   "name": "python",
   "nbconvert_exporter": "python",
   "pygments_lexer": "ipython3",
   "conversion": "3.8.8 (default, Apr 13 2021, 15:08:03) [MSC v.1916 64 bit (AMD64)]"
  },
  "orig_nbformat": 4,
  "vscode": {
   "interpreter": {
    "hash": "ad2bdc8ecc057115af97d19610ffacc2b4e99fae6737bb82f5d7fb13d2f2c186"
   }
  }
 },
 "nbformat": 4,
 "nbformat_minor": 2
}
