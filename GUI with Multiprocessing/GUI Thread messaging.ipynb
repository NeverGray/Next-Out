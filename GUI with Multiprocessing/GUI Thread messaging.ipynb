{
    "cells": [
        {
            "cell_type": "code",
            "execution_count": null,
            "source": [
                "''''https://www.reddit.com/r/learnpython/comments/6flxe7/multiprocessingthreads_and_tkinter/'''\r\n",
                "\r\n",
                "import queue\r\n",
                "import threading\r\n",
                "from tkinter import *\r\n",
                "\r\n",
                "class TkThread:\r\n",
                "  def __init__(self):\r\n",
                "    self.tk = Tk()\r\n",
                "    self.message_queue = queue.Queue()\r\n",
                "    self.message_event = '<<message>>'\r\n",
                "    self.tk.bind(self.message_event, self. process_message_queue)\r\n",
                "\r\n",
                "  def run_tk(self):\r\n",
                "        self.tk.title('My Window') # add buttons, etc.\r\n",
                "        self.tk.lift(); self.tk.mainloop()\r\n",
                "\r\n",
                "  def send_message_to_ui(self, message):\r\n",
                "    self.message_queue.put(message)\r\n",
                "    self.tk.event_generate(self.message_event, when='tail')\r\n",
                "\r\n",
                "  def process_message_queue(self, event):\r\n",
                "    while self.message_queue.empty() is False:\r\n",
                "      message = self.message_queue.get(block=False)"
            ],
            "outputs": [
                {
                    "output_type": "error",
                    "ename": "Error",
                    "evalue": "Session cannot generate requests",
                    "traceback": [
                        "Error: Session cannot generate requests",
                        "at w.executeCodeCell (c:\\Users\\msn\\.vscode\\extensions\\ms-toolsai.jupyter-2021.8.1054968649\\out\\client\\extension.js:90:320068)",
                        "at w.execute (c:\\Users\\msn\\.vscode\\extensions\\ms-toolsai.jupyter-2021.8.1054968649\\out\\client\\extension.js:90:319389)",
                        "at w.start (c:\\Users\\msn\\.vscode\\extensions\\ms-toolsai.jupyter-2021.8.1054968649\\out\\client\\extension.js:90:315205)",
                        "at runMicrotasks (<anonymous>)",
                        "at processTicksAndRejections (internal/process/task_queues.js:93:5)",
                        "at async t.CellExecutionQueue.executeQueuedCells (c:\\Users\\msn\\.vscode\\extensions\\ms-toolsai.jupyter-2021.8.1054968649\\out\\client\\extension.js:90:329732)",
                        "at async t.CellExecutionQueue.start (c:\\Users\\msn\\.vscode\\extensions\\ms-toolsai.jupyter-2021.8.1054968649\\out\\client\\extension.js:90:329272)"
                    ]
                }
            ],
            "metadata": {}
        },
        {
            "cell_type": "code",
            "execution_count": null,
            "source": [
                "import\r\n",
                "class BackgroundThread:\r\n",
                "\r\n",
                "  def __init__(self, tk_thread):\r\n",
                "    self.tk_thread = tk_thread\r\n",
                "    self.thread = threading.Thread(target=self.run_thread); self.thread.start()\r\n",
                "\r\n",
                "  def run_thread(self):\r\n",
                "    time.sleep(10)         # just an example... this gives the Tk some time to start up\r\n",
                "    tk_thread.send_message_to_ui('Test Message')\r\n",
                "\r\n",
                "if __name__ == '__main__':\r\n",
                "  tk_thread = TkThread()\r\n",
                "  back_thread = BackgroundThread(tk_thread) \r\n",
                "  tk_thread.run_tk()    # initiate last, since this runs tk.main_loop() which is a blocking call"
            ],
            "outputs": [],
            "metadata": {}
        }
    ],
    "metadata": {
        "orig_nbformat": 4,
        "language_info": {
            "name": "python",
            "conversion": "3.8.8",
            "mimetype": "text/x-python",
            "codemirror_mode": {
                "name": "ipython",
                "conversion": 3
            },
            "pygments_lexer": "ipython3",
            "nbconvert_exporter": "python",
            "file_extension": ".py"
        },
        "kernelspec": {
            "name": "python3",
            "display_name": "Python 3.8.8 64-bit ('base': conda)"
        },
        "interpreter": {
            "hash": "b3ba2566441a7c06988d0923437866b63cedc61552a5af99d1f4fb67d367b25f"
        }
    },
    "nbformat": 4,
    "nbformat_minor": 2
}