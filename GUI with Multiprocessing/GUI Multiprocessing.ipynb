import Queue, threading
from Tkinter import *

class TkThread:
  def __init__(self):
    self.tk = Tk()
    self.message_queue = Queue.Queue()
    self.message_event = '<<message>>'
    self.tk.bind(self.message_event, self. process_message_queue)

  def run_tk(self):
        self.tk.title('My Window') # add buttons, etc.
        self.tk.lift(); self.tk.mainloop()

  def send_message_to_ui(self, message):
    self.message_queue.put(message)
    self.tk.event_generate(self.message_event, when='tail')

  def process_message_queue(self, event):
    while self.message_queue.empty() is False:
      message = self.message_queue.get(block=False)