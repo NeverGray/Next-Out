{
 "cells": [
  {
   "cell_type": "code",
   "execution_count": 37,
   "source": [
    "import win32com.client\r\n",
    "\r\n",
    "#visio = win32com.client.gencache.EnsureDispatch(\"Visio.Application\")\r\n",
    "visio = win32com.client.Dispatch(\"Visio.InvisibleApp\")\r\n",
    "doc = visio.Documents.Open('c:\\\\temp\\\\test.vsdx')\r\n",
    "doc.ExportAsFixedFormat( 1, 'c:\\\\temp\\\\test.pdf', 1, 0)\r\n",
    "visio.Application.Quit()\r\n"
   ],
   "outputs": [],
   "metadata": {}
  }
 ],
 "metadata": {
  "orig_nbformat": 4,
  "language_info": {
   "name": "python",
   "conversion": "3.8.8",
   "mimetype": "text/x-python",
   "codemirror_mode": {
    "name": "ipython",
    "conversion": 3
   },
   "pygments_lexer": "ipython3",
   "nbconvert_exporter": "python",
   "file_extension": ".py"
  },
  "kernelspec": {
   "name": "python3",
   "display_name": "Python 3.8.8 64-bit ('base': conda)"
  },
  "interpreter": {
   "hash": "b3ba2566441a7c06988d0923437866b63cedc61552a5af99d1f4fb67d367b25f"
  }
 },
 "nbformat": 4,
 "nbformat_minor": 2
}