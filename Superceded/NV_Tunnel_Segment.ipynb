{
    "cells": [
        {
            "cell_type": "code",
            "execution_count": 266,
            "source": [
                "import NO_parser\r\n",
                "import NO_route\r\n",
                "import pandas as pd\r\n",
                "from pathlib import Path"
            ],
            "outputs": [],
            "metadata": {}
        },
        {
            "cell_type": "code",
            "execution_count": 267,
            "source": [
                "def fire_at_simtime(form4_df, simtime):\r\n",
                "    if form4_df is None:\r\n",
                "        return False\r\n",
                "    else:\r\n",
                "        min_source_active = form4_df['source_active'].min()\r\n",
                "        max_source_inactive = form4_df['source_inactive'].max()\r\n",
                "        if min_source_active < simtime < max_source_inactive:\r\n",
                "            return True\r\n",
                "        else:\r\n",
                "            return False\r\n"
            ],
            "outputs": [],
            "metadata": {}
        },
        {
            "cell_type": "code",
            "execution_count": 268,
            "source": [
                "def fire_in_segment(form4_df, simtime):\r\n",
                "    fire = False\r\n",
                "    fire_segments = form4_df.index.unique(level=0).to_list()\r\n",
                "    if seg_id in fire_segments:\r\n",
                "        min_source_active_segment = form4_df.loc[(seg_id),'source_active'].min()\r\n",
                "        max_source_inactive_segment = form4_df.loc[(seg_id),'source_inactive'].max()\r\n",
                "        if min_source_active_segment < simtime < max_source_inactive_segment:\r\n",
                "            fire = True\r\n",
                "    return fire"
            ],
            "outputs": [],
            "metadata": {}
        },
        {
            "cell_type": "code",
            "execution_count": 269,
            "source": [
                "def trains_at_simtime(tra,simtime):\r\n",
                "    train_times = tra.index.unique(level=0).to_list()\r\n",
                "    if simtime in train_times:\r\n",
                "        return True\r\n",
                "    else:\r\n",
                "        return False"
            ],
            "outputs": [],
            "metadata": {}
        },
        {
            "cell_type": "code",
            "execution_count": 270,
            "source": [
                "directory_string = \"C:\\\\Users\\\\msn\\\\OneDrive - Never Gray\\\\Software Development\\\\Next-Vis\\\\Projects and Issues\\\\2021-09-14 Tunnel Stencil\\\\Parsing\\\\\"\r\n",
                "file_name = \"Form4.prn\"\r\n",
                "path_string = directory_string + file_name\r\n",
                "file_path = Path(path_string)\r\n",
                "visio_template = \"TS_005.vsdx\"\r\n",
                "visio_template_folder = \"C:/Users/msn/OneDrive - Never Gray/Software Development/Next-Vis/Projects and Issues/2021-09-14 Tunnel Stencil\"\r\n",
                "settings = {\r\n",
                "    \"ses_output_str\": [file_path],\r\n",
                "    \"visio_template\": \"/\".join([visio_template_folder, visio_template]),\r\n",
                "    \"results_folder_str\": \"\",\r\n",
                "    \"simtime\": 9999.0,\r\n",
                "    \"version\": \"tbd\",\r\n",
                "    \"control\": \"First\",\r\n",
                "    \"output\": [\"Visio\",\"visio_2_pdf\",\"visio_2_png\",\"visio_2_svg\"],\r\n",
                "    }\r\n",
                "\r\n",
                "data, output_meta_data = NO_parser.parse_file(file_path)"
            ],
            "outputs": [
                {
                    "output_type": "stream",
                    "name": "stdout",
                    "text": [
                        "Parser msg: Read data from Form4.prn\n"
                    ]
                }
            ],
            "metadata": {}
        },
        {
            "cell_type": "code",
            "execution_count": 271,
            "source": [
                "simtime = 25.0\r\n",
                "seg_id = 212\r\n",
                "\r\n",
                "fire = False\r\n",
                "if fire_at_simtime(output_meta_data['form4_df'], simtime):\r\n",
                "    fire = fire_in_segment(output_meta_data['form4_df'], simtime)\r\n",
                "print(fire)\r\n",
                "if trains_at_simtime(d['TRA'],simtime):\r\n",
                "    print('hello world')\r\n"
            ],
            "outputs": [
                {
                    "output_type": "stream",
                    "name": "stdout",
                    "text": [
                        "True\n",
                        "hello world\n"
                    ]
                }
            ],
            "metadata": {}
        },
        {
            "cell_type": "code",
            "execution_count": 272,
            "source": [
                "tra = d['TRA']\r\n",
                "tra.loc[(simtime)]\r\n"
            ],
            "outputs": [
                {
                    "output_type": "execute_result",
                    "data": {
                        "text/plain": [
                            "              Route_Number  Train_Type_Number  Location  Speed  Accel  \\\n",
                            "Train_Number                                                            \n",
                            "1                        2                  1   14739.0    0.0    0.0   \n",
                            "2                        2                  1   14719.0    0.0    0.0   \n",
                            "\n",
                            "              Air_Drag  Air_Drag_Coeff  Tractive_Effort  Motor_current  \\\n",
                            "Train_Number                                                             \n",
                            "1                  4.0             0.0              0.0            0.0   \n",
                            "2                  4.0             0.0              0.0            0.0   \n",
                            "\n",
                            "              Line_Current  Fly_WHeel  M_Eff  Grid_Temp_Accel  \\\n",
                            "Train_Number                                                    \n",
                            "1                      0.0        0.0    NaN            107.0   \n",
                            "2                      0.0        0.0    NaN            107.0   \n",
                            "\n",
                            "              Grid_Temp_Decel  Heat_Gen  Heat_Reject  \n",
                            "Train_Number                                          \n",
                            "1                       107.0      0.04         0.04  \n",
                            "2                       107.0      0.04         0.04  "
                        ],
                        "text/html": [
                            "<div>\n",
                            "<style scoped>\n",
                            "    .dataframe tbody tr th:only-of-type {\n",
                            "        vertical-align: middle;\n",
                            "    }\n",
                            "\n",
                            "    .dataframe tbody tr th {\n",
                            "        vertical-align: top;\n",
                            "    }\n",
                            "\n",
                            "    .dataframe thead th {\n",
                            "        text-align: right;\n",
                            "    }\n",
                            "</style>\n",
                            "<table border=\"1\" class=\"dataframe\">\n",
                            "  <thead>\n",
                            "    <tr style=\"text-align: right;\">\n",
                            "      <th></th>\n",
                            "      <th>Route_Number</th>\n",
                            "      <th>Train_Type_Number</th>\n",
                            "      <th>Location</th>\n",
                            "      <th>Speed</th>\n",
                            "      <th>Accel</th>\n",
                            "      <th>Air_Drag</th>\n",
                            "      <th>Air_Drag_Coeff</th>\n",
                            "      <th>Tractive_Effort</th>\n",
                            "      <th>Motor_current</th>\n",
                            "      <th>Line_Current</th>\n",
                            "      <th>Fly_WHeel</th>\n",
                            "      <th>M_Eff</th>\n",
                            "      <th>Grid_Temp_Accel</th>\n",
                            "      <th>Grid_Temp_Decel</th>\n",
                            "      <th>Heat_Gen</th>\n",
                            "      <th>Heat_Reject</th>\n",
                            "    </tr>\n",
                            "    <tr>\n",
                            "      <th>Train_Number</th>\n",
                            "      <th></th>\n",
                            "      <th></th>\n",
                            "      <th></th>\n",
                            "      <th></th>\n",
                            "      <th></th>\n",
                            "      <th></th>\n",
                            "      <th></th>\n",
                            "      <th></th>\n",
                            "      <th></th>\n",
                            "      <th></th>\n",
                            "      <th></th>\n",
                            "      <th></th>\n",
                            "      <th></th>\n",
                            "      <th></th>\n",
                            "      <th></th>\n",
                            "      <th></th>\n",
                            "    </tr>\n",
                            "  </thead>\n",
                            "  <tbody>\n",
                            "    <tr>\n",
                            "      <th>1</th>\n",
                            "      <td>2</td>\n",
                            "      <td>1</td>\n",
                            "      <td>14739.0</td>\n",
                            "      <td>0.0</td>\n",
                            "      <td>0.0</td>\n",
                            "      <td>4.0</td>\n",
                            "      <td>0.0</td>\n",
                            "      <td>0.0</td>\n",
                            "      <td>0.0</td>\n",
                            "      <td>0.0</td>\n",
                            "      <td>0.0</td>\n",
                            "      <td>NaN</td>\n",
                            "      <td>107.0</td>\n",
                            "      <td>107.0</td>\n",
                            "      <td>0.04</td>\n",
                            "      <td>0.04</td>\n",
                            "    </tr>\n",
                            "    <tr>\n",
                            "      <th>2</th>\n",
                            "      <td>2</td>\n",
                            "      <td>1</td>\n",
                            "      <td>14719.0</td>\n",
                            "      <td>0.0</td>\n",
                            "      <td>0.0</td>\n",
                            "      <td>4.0</td>\n",
                            "      <td>0.0</td>\n",
                            "      <td>0.0</td>\n",
                            "      <td>0.0</td>\n",
                            "      <td>0.0</td>\n",
                            "      <td>0.0</td>\n",
                            "      <td>NaN</td>\n",
                            "      <td>107.0</td>\n",
                            "      <td>107.0</td>\n",
                            "      <td>0.04</td>\n",
                            "      <td>0.04</td>\n",
                            "    </tr>\n",
                            "  </tbody>\n",
                            "</table>\n",
                            "</div>"
                        ]
                    },
                    "metadata": {},
                    "execution_count": 272
                }
            ],
            "metadata": {}
        },
        {
            "cell_type": "code",
            "execution_count": 314,
            "source": [
                "#TODO Convert to function\r\n",
                "segments_with_trains_series = pd.Series(dtype='int64')\r\n",
                "for index, row in tra.loc[(simtime)].iterrows():\r\n",
                "    train_number = index\r\n",
                "    route = row['Route_Number']\r\n",
                "    train_type = row['Train_Type_Number']\r\n",
                "    train_front = row['Location']\r\n",
                "    train_type_number = row['Train_Type_Number']\r\n",
                "    length = output_meta_data['form9_df'].loc[train_type_number,'train_length']\r\n",
                "    length = 147\r\n",
                "    train_back = train_front + length\r\n",
                "    df = output_meta_data['form_8f'].loc[route]\r\n",
                "    criteria_train_front = (df['Start']<=train_front) & (df['End']>=train_front)\r\n",
                "    criteria_train_middle = (df['Start']>=train_front) & (df['End']<=train_back)\r\n",
                "    criteria_train_back = (df['Start']<=train_back) & (df['End']>=train_back)\r\n",
                "    new_segments_series = df[criteria_train_front | criteria_train_middle | criteria_train_back].index.to_series().abs()\r\n",
                "    segments_with_trains_series= segments_with_trains.append(new_segments_series,ignore_index=True)\r\n",
                "segments_with_trains = segments_with_trains_series.unique().tolist()"
            ],
            "outputs": [],
            "metadata": {}
        },
        {
            "cell_type": "code",
            "execution_count": 321,
            "source": [
                "\r\n",
                "\r\n"
            ],
            "outputs": [
                {
                    "output_type": "execute_result",
                    "data": {
                        "text/plain": [
                            "0     212\n",
                            "1     211\n",
                            "2     312\n",
                            "3     311\n",
                            "4     310\n",
                            "5     212\n",
                            "6     211\n",
                            "7     312\n",
                            "8     311\n",
                            "9     310\n",
                            "10    212\n",
                            "11    211\n",
                            "12    312\n",
                            "13    311\n",
                            "14    310\n",
                            "dtype: int64"
                        ]
                    },
                    "metadata": {},
                    "execution_count": 321
                }
            ],
            "metadata": {}
        },
        {
            "cell_type": "code",
            "execution_count": 322,
            "source": [
                "\r\n",
                "\r\n",
                "#only include \r\n"
            ],
            "outputs": [],
            "metadata": {}
        }
    ],
    "metadata": {
        "orig_nbformat": 4,
        "language_info": {
            "name": "python",
            "conversion": "3.8.8",
            "mimetype": "text/x-python",
            "codemirror_mode": {
                "name": "ipython",
                "conversion": 3
            },
            "pygments_lexer": "ipython3",
            "nbconvert_exporter": "python",
            "file_extension": ".py"
        },
        "kernelspec": {
            "name": "python3",
            "display_name": "Python 3.8.8 64-bit ('base': conda)"
        },
        "interpreter": {
            "hash": "b3ba2566441a7c06988d0923437866b63cedc61552a5af99d1f4fb67d367b25f"
        }
    },
    "nbformat": 4,
    "nbformat_minor": 2
}