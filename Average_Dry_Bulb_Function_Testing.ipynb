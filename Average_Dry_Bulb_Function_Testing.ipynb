{
 "cells": [
  {
   "cell_type": "code",
   "execution_count": 18,
   "metadata": {},
   "outputs": [
    {
     "name": "stdout",
     "output_type": "stream",
     "text": [
      "Run msg: Importing data from siinfern.out.\n",
      "Run msg: Warning - siinfern.out has abbreviated prints. Use detailed prints for more thermal data.\n",
      "Run msg: Finished importing data from siinfern.out.\n"
     ]
    }
   ],
   "source": [
    "import NV_parser\n",
    "from pathlib import Path\n",
    "import re\n",
    "directory_string = \"C:\\\\simulations\\\\Next-Vis 1p21\\\\SI Samples\\\\\"\n",
    "file_name = \"siinfern.out\"\n",
    "path_string = directory_string + file_name\n",
    "file_path = Path(path_string)\n",
    "d, output_meta_data = NV_parser.parse_file(file_path)"
   ]
  },
  {
   "cell_type": "code",
   "execution_count": 24,
   "metadata": {},
   "outputs": [],
   "source": [
    "new= d['SST']['Air_Temp']*d['SSA']['Airflow']\n"
   ]
  },
  {
   "cell_type": "code",
   "execution_count": 28,
   "metadata": {},
   "outputs": [],
   "source": [
    "actual_airflow = (d['SST']['Air_Temp']+273) *d['SSA']['Airflow']/()"
   ]
  },
  {
   "cell_type": "code",
   "execution_count": 29,
   "metadata": {},
   "outputs": [
    {
     "data": {
      "text/plain": [
       "Sub\n",
       "1   -15823.3824\n",
       "2           NaN\n",
       "dtype: float64"
      ]
     },
     "execution_count": 29,
     "metadata": {},
     "output_type": "execute_result"
    }
   ],
   "source": [
    "actual_airflow[10,2]"
   ]
  },
  {
   "cell_type": "code",
   "execution_count": 31,
   "metadata": {},
   "outputs": [
    {
     "data": {
      "text/plain": [
       "Sub\n",
       "1   -1538.3844\n",
       "2          NaN\n",
       "dtype: float64"
      ]
     },
     "execution_count": 31,
     "metadata": {},
     "output_type": "execute_result"
    }
   ],
   "source": [
    "new[10,2]"
   ]
  }
 ],
 "metadata": {
  "kernelspec": {
   "display_name": "Python 3.8.8 ('base')",
   "language": "python",
   "name": "python3"
  },
  "language_info": {
   "codemirror_mode": {
    "name": "ipython",
    "version": 3
   },
   "file_extension": ".py",
   "mimetype": "text/x-python",
   "name": "python",
   "nbconvert_exporter": "python",
   "pygments_lexer": "ipython3",
   "version": "3.8.8 (default, Apr 13 2021, 15:08:03) [MSC v.1916 64 bit (AMD64)]"
  },
  "orig_nbformat": 4,
  "vscode": {
   "interpreter": {
    "hash": "ad2bdc8ecc057115af97d19610ffacc2b4e99fae6737bb82f5d7fb13d2f2c186"
   }
  }
 },
 "nbformat": 4,
 "nbformat_minor": 2
}
