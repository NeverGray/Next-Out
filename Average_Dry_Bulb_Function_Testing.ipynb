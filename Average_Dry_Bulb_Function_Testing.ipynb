{
 "cells": [
  {
   "cell_type": "code",
   "execution_count": 1,
   "metadata": {},
   "outputs": [
    {
     "name": "stderr",
     "output_type": "stream",
     "text": [
      "c:\\ProgramData\\anaconda3\\Lib\\site-packages\\openpyxl\\worksheet\\_read_only.py:79: UserWarning: Conditional Formatting extension is not supported and will be removed\n",
      "  for idx, row in parser.parse():\n",
      "c:\\ProgramData\\anaconda3\\Lib\\site-packages\\openpyxl\\worksheet\\_read_only.py:79: UserWarning: Conditional Formatting extension is not supported and will be removed\n",
      "  for idx, row in parser.parse():\n",
      "c:\\ProgramData\\anaconda3\\Lib\\site-packages\\openpyxl\\worksheet\\_read_only.py:79: UserWarning: Conditional Formatting extension is not supported and will be removed\n",
      "  for idx, row in parser.parse():\n",
      "c:\\ProgramData\\anaconda3\\Lib\\site-packages\\openpyxl\\worksheet\\_read_only.py:79: UserWarning: Conditional Formatting extension is not supported and will be removed\n",
      "  for idx, row in parser.parse():\n",
      "c:\\ProgramData\\anaconda3\\Lib\\site-packages\\openpyxl\\worksheet\\_read_only.py:79: UserWarning: Conditional Formatting extension is not supported and will be removed\n",
      "  for idx, row in parser.parse():\n",
      "c:\\ProgramData\\anaconda3\\Lib\\site-packages\\openpyxl\\worksheet\\_read_only.py:79: UserWarning: Conditional Formatting extension is not supported and will be removed\n",
      "  for idx, row in parser.parse():\n",
      "c:\\ProgramData\\anaconda3\\Lib\\site-packages\\openpyxl\\reader\\excel.py:228: UserWarning: Conditional Formatting extension is not supported and will be removed\n",
      "  ws_parser.bind_all()\n"
     ]
    },
    {
     "name": "stdout",
     "output_type": "stream",
     "text": [
      "Run msg: Importing data from siinfern_Fire_01-01_140m3s_E.OUT.\n",
      "Run msg: Finished importing data from siinfern_Fire_01-01_140m3s_E.OUT.\n",
      "Run msg: Importing data from siinfern_Fire_01-02_140m3s_E.OUT.\n",
      "Run msg: Finished importing data from siinfern_Fire_01-02_140m3s_E.OUT.\n",
      "Run msg: Importing data from siinfern_Fire_01-03_140m3s_E.OUT.\n",
      "Run msg: Finished importing data from siinfern_Fire_01-03_140m3s_E.OUT.\n"
     ]
    }
   ],
   "source": [
    "from pathlib import Path\n",
    "\n",
    "import next_in\n",
    "import NV_CONSTANTS\n",
    "import NV_parser\n",
    "import next_in_output\n",
    "import pandas as pd\n",
    "\n",
    "summary_list = []\n",
    "next_in_name = \"Next Iteration Sheet Rev13.xlsx\"\n",
    "settings= {\n",
    "    'ses_output_str': [\n",
    "        'C:/Users/msn/OneDrive - Never Gray/Software Development/Next-Vis/_Tasks/Next-Sim Update/Output_Summary/siinfern_Fire_01-01_140m3s_E.OUT',\n",
    "        'C:/Users/msn/OneDrive - Never Gray/Software Development/Next-Vis/_Tasks/Next-Sim Update/Output_Summary/siinfern_Fire_01-02_140m3s_E.OUT',\n",
    "        'C:/Users/msn/OneDrive - Never Gray/Software Development/Next-Vis/_Tasks/Next-Sim Update/Output_Summary/siinfern_Fire_01-03_140m3s_E.OUT',\n",
    "    ],\n",
    "    'visio_template': 'C:/Simulations/Demonstration/Next Vis Samples1p21.vsdx', \n",
    "    'results_folder_str': 'C:/Users/msn/OneDrive - Never Gray/Software Development/Next-Vis/_Tasks/Next-Sim Update/Output_Summary/', \n",
    "    'simtime': -1, \n",
    "    'conversion': '',\n",
    "    'output': ['Excel','', '', '', '', ''], \n",
    "    'file_type': 'next_in', #If using input file, change 'file_type' value to 'input_file\n",
    "    'path_exe': 'C:/Simulations/_Exe/SESV6_32.exe',\n",
    "    \"next_in_ses_version\" : \"SI\",\n",
    "    \"next_in_single_file_name\": 'does not matter',\n",
    "    \"run_ses_next_in\": \"run_ses\",\n",
    "    \"iteration_worksheets\": \"Iteration\",\n",
    "    \"summary_output_name\": \"blank for now\"\n",
    "    }\n",
    "save_path = Path(settings['results_folder_str'])\n",
    "settings['next_in_path']=Path(settings['ses_output_str'][0]).parent / next_in_name\n",
    "next_in_instance = next_in.Next_In(settings['next_in_path'],save_path,ses_version=\"SI\")\n",
    "next_in_instance.read_iteration('Iteration')\n",
    "next_in_output_instance = next_in_output.Next_In_Output(next_in_instance)\n",
    "settings['next_in_output'] = next_in_output\n",
    "#TODO work on here and get summary list to work\n",
    "for output_str in settings['ses_output_str']:\n",
    "    output_file_path = Path(output_str)\n",
    "    d, output_meta_data = NV_parser.parse_file(output_file_path, gui=\"\",conversion_setting=\"\")\n",
    "    parameter_value_list = next_in_output_instance.lookup_parameters(d, output_meta_data)\n",
    "    summary_list.extend(parameter_value_list)"
   ]
  },
  {
   "cell_type": "code",
   "execution_count": 2,
   "metadata": {},
   "outputs": [
    {
     "name": "stderr",
     "output_type": "stream",
     "text": [
      "c:\\ProgramData\\anaconda3\\Lib\\site-packages\\openpyxl\\reader\\excel.py:228: UserWarning: Conditional Formatting extension is not supported and will be removed\n",
      "  ws_parser.bind_all()\n"
     ]
    }
   ],
   "source": [
    "from openpyxl import load_workbook\n",
    "\n",
    "# Specify the path to the existing Excel file\n",
    "existing_file_path = settings['next_in_path']\n",
    "\n",
    "# Specify the name of the sheet you want to modify\n",
    "sheet_name = 'Iteration'\n",
    "\n",
    "# Load the existing workbook\n",
    "wb = load_workbook(existing_file_path)\n",
    "\n",
    "# Access the specific sheet by name\n",
    "ws = wb[sheet_name]\n",
    "\n",
    "#Enter values into summary sheet\n",
    "row_offset = 6\n",
    "column_offset = 1\n",
    "for list in summary_list:\n",
    "    row = list[0]+row_offset\n",
    "    column = list[1]+column_offset\n",
    "    value = list[2]\n",
    "    cell = ws.cell(row,column)\n",
    "    cell.value = value\n",
    "cell = ws.cell(7,30)\n",
    "cell.value = 6969\n",
    "cell.data_type = 'n'\n",
    "wb.save(Path(settings['ses_output_str'][0]).parent / \"next-sim-015.xlsx\")\n"
   ]
  },
  {
   "cell_type": "code",
   "execution_count": null,
   "metadata": {},
   "outputs": [],
   "source": []
  }
 ],
 "metadata": {
  "kernelspec": {
   "display_name": "Python 3.8.8 ('base')",
   "language": "python",
   "name": "python3"
  },
  "language_info": {
   "codemirror_mode": {
    "name": "ipython",
    "version": 3
   },
   "file_extension": ".py",
   "mimetype": "text/x-python",
   "name": "python",
   "nbconvert_exporter": "python",
   "pygments_lexer": "ipython3",
   "version": "3.11.5"
  },
  "orig_nbformat": 4,
  "vscode": {
   "interpreter": {
    "hash": "ad2bdc8ecc057115af97d19610ffacc2b4e99fae6737bb82f5d7fb13d2f2c186"
   }
  }
 },
 "nbformat": 4,
 "nbformat_minor": 2
}
