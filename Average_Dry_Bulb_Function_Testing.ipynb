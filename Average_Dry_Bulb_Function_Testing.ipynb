{
 "cells": [
  {
   "cell_type": "code",
   "execution_count": 1,
   "metadata": {},
   "outputs": [
    {
     "name": "stdout",
     "output_type": "stream",
     "text": [
      "12.649110640673518\n"
     ]
    }
   ],
   "source": [
    "col = 12.649110640673518  \n",
    "formated_entry = \"\"\n",
    "if str(col) == \"nan\":\n",
    "    formated_entry = \"\".ljust(10)\n",
    "elif type(col) is int:\n",
    "    if abs(col) > 99999999 or (abs(col) < 0.00001 and col != 0):\n",
    "        value = \"{:.3E}\".format(col)\n",
    "        formated_entry = str(value).ljust(10)\n",
    "    else:\n",
    "        col = str(col) + \".\"\n",
    "        formated_entry = col.ljust(10)\n",
    "elif type(col) is float:\n",
    "    if col == 0:\n",
    "        value = \"0.\"\n",
    "    elif abs(col) > 99999999 or (abs(col) < 0.00001):\n",
    "        value = \"{:.3E}\".format(col)\n",
    "    elif col == int(col):  # If the value can be represented by an integer\n",
    "        value = \"{:.0f}\".format(col) + \".\"\n",
    "    else:\n",
    "        value = col\n",
    "    formated_entry = str(value).ljust(10)\n",
    "else:  # line is a string and needs additional spaces\n",
    "    formated_entry = col.ljust(10)\n",
    "print(formated_entry)"
   ]
  },
  {
   "cell_type": "code",
   "execution_count": 5,
   "metadata": {},
   "outputs": [
    {
     "name": "stdout",
     "output_type": "stream",
     "text": [
      "12.649110 \n"
     ]
    }
   ],
   "source": [
    "formated_entry = str(value)[:9].ljust(10)\n",
    "print(formated_entry)"
   ]
  }
 ],
 "metadata": {
  "kernelspec": {
   "display_name": "Python 3.8.8 ('base')",
   "language": "python",
   "name": "python3"
  },
  "language_info": {
   "codemirror_mode": {
    "name": "ipython",
    "version": 3
   },
   "file_extension": ".py",
   "mimetype": "text/x-python",
   "name": "python",
   "nbconvert_exporter": "python",
   "pygments_lexer": "ipython3",
   "version": "3.11.5"
  },
  "orig_nbformat": 4,
  "vscode": {
   "interpreter": {
    "hash": "ad2bdc8ecc057115af97d19610ffacc2b4e99fae6737bb82f5d7fb13d2f2c186"
   }
  }
 },
 "nbformat": 4,
 "nbformat_minor": 2
}
